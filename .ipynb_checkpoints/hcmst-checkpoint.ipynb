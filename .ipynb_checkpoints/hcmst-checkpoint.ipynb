{
 "cells": [
  {
   "cell_type": "markdown",
   "id": "456760c6-56bb-469b-84a8-38ce4637a852",
   "metadata": {
    "jp-MarkdownHeadingCollapsed": true,
    "tags": []
   },
   "source": [
    "## Problématique sur les couples\n",
    "A partir de l'enquete de Stanford [\"How Couples Meet and Stay Together 2017 (HCMST2017)\"](https://data.stanford.edu/hcmst2017), dont l'abréviation est HCMST2017.\n",
    "\n",
    "### Voici les problématiques :\n",
    "1.  Es que les rencontre en ligne sont elle plus stable que les rencontre irl?\n",
    "\n",
    "---\n",
    "\n",
    "# Info Data :\n",
    "How Couples Meet and Stay Together (HCMST2017) est une étude sur la façon dont les Américains rencontrent leurs conjoints et partenaires amoureux.\n",
    "\n",
    "- L'étude est une étude représentative à l'échelle nationale des adultes américains.\n",
    "- 4 002 adultes ont répondu à l'enquête, dont 3 009 avaient un conjoint ou un partenaire amoureux principal.\n",
    "- L'étude suréchantillonne des adultes homosexuels, lesbiennes et bisexuels auto-identifiés\n",
    "- Des enquêtes de suivi ont été mises en place un et deux ans après l'enquête principale, pour étudier les taux de dissolution des couples. La version 3.0 de l'ensemble de données comprend deux enquêtes de suivi, les vagues 2 et 3.\n",
    "- Les vagues 4 et 5 sont fournies sous forme de fichiers de données distincts qui peuvent être liés au fichier principal via la variable caseid_new.\n",
    "nous allons prendre en compte que la derniere wave.\n",
    "wave 6 = 2017\n",
    "chaque wave correspond à un fichier csv que l'on as.\n",
    "\n",
    "# Information que l'on shouaite \n",
    "\n",
    "1. Le nombre de participant \n",
    "2. Leur sexe\n",
    "3. Leur age\n",
    "4. Leur revenu\n",
    "5. Leur scolarité\n",
    "4. Sont il celibataire ?\n",
    "5. Comment on il rencontrer leur conjoin\n",
    "6. L'age de leur conjoin\n",
    "4. Depuis combien de temp sont il ensemble ?\n",
    "\n",
    "6. y a t-il une différence entre ce qui se sont rencontrée irl et sur internet sur le le mariage\n",
    "___"
   ]
  },
  {
   "cell_type": "markdown",
   "id": "dc4344e6-ee8b-4184-a189-880912b021bc",
   "metadata": {
    "tags": []
   },
   "source": [
    "# Transformer les fichier .dta en .csv\n",
    "Grace [à cette personne.](https://gist.github.com/clbarnes/3d4cef38806672535a37a7db3c06c0ad)\n",
    "Nous avons pus crée ce code qui convertie les fichier .dta en csv"
   ]
  },
  {
   "cell_type": "code",
   "execution_count": 1,
   "id": "dc122201-d8d5-4b6d-a732-3fd0dc5727cf",
   "metadata": {},
   "outputs": [
    {
     "name": "stdout",
     "output_type": "stream",
     "text": [
      "Reading dta\\HCMST 2017 fresh sample for public sharing draft v1.1.dta\n",
      "Writing HCMST 2017 fresh sample for public sharing draft v1.1.csv\n",
      "Moving dta\\HCMST 2017 fresh sample for public sharing draft v1.1.csv to csv\\Brut\\HCMST 2017 fresh sample for public sharing draft v1.1.csv\n"
     ]
    }
   ],
   "source": [
    "#!/usr/bin/env python3.7\n",
    "\"\"\"\n",
    "How Couples Meet and Stay Together\n",
    "\n",
    "For more information, see [the website](https://data.stanford.edu/hcmst)\n",
    "\n",
    "Download STATA data (.dta) and put in the same directory as this script.\n",
    "transforme les fichier dta en csv\n",
    "\"\"\"\n",
    "from pathlib import Path\n",
    "import pandas as pd\n",
    "\n",
    "for fpath in Path().glob(\"dta/*.dta\"):\n",
    "    print(f\"Reading {fpath}\")\n",
    "    df = pd.read_stata(fpath)\n",
    "    out_fpath = fpath.with_suffix(\".csv\").name\n",
    "    print(f\"Writing {out_fpath}\")\n",
    "    df.to_csv(fpath.with_suffix(\".csv\"))\n",
    "\n",
    "for fpath in Path().glob(\"dta/*.csv\"):\n",
    "    new_fpath = Path(\"./csv/Brut\") / fpath.name\n",
    "    print(f\"Moving {fpath} to {new_fpath}\")\n",
    "    fpath.rename(new_fpath)"
   ]
  },
  {
   "cell_type": "markdown",
   "id": "bca311e8-e39c-4330-a6d5-22aed41339ac",
   "metadata": {
    "tags": []
   },
   "source": [
    "# Netoyage Des donné\n",
    "\n",
    "### explication :\n",
    "code qui transfrome tout les \"date\"HCMST qui sont dans un désorde en un fichier csv avec des tete de page comprénsible et prendre les information utile pour chaque vague.\n",
    "nous n'utiliserons que les donnée les plus résente.\n",
    "Crée un fichier csv contenant que les information qui nous interesse. et le placer dans ./csv/Netoyer/\n",
    "___\n",
    "## wave 6 2017"
   ]
  },
  {
   "cell_type": "code",
   "execution_count": null,
   "id": "8779cfbc-46ea-47ab-8ed5-d492050da5ea",
   "metadata": {},
   "outputs": [],
   "source": []
  }
 ],
 "metadata": {
  "kernelspec": {
   "display_name": "Python 3 (ipykernel)",
   "language": "python",
   "name": "python3"
  },
  "language_info": {
   "codemirror_mode": {
    "name": "ipython",
    "version": 3
   },
   "file_extension": ".py",
   "mimetype": "text/x-python",
   "name": "python",
   "nbconvert_exporter": "python",
   "pygments_lexer": "ipython3",
   "version": "3.9.13"
  }
 },
 "nbformat": 4,
 "nbformat_minor": 5
}
