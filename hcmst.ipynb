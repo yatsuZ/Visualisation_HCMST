{
 "cells": [
  {
   "cell_type": "markdown",
   "id": "456760c6-56bb-469b-84a8-38ce4637a852",
   "metadata": {
    "jp-MarkdownHeadingCollapsed": true,
    "tags": []
   },
   "source": [
    "## Problématique sur les couples\n",
    "A partir de l'enquete de Stanford [\"How Couples Meet and Stay Together (HCMST)\"](https://data.stanford.edu/hcmst), dont l'abréviation est HCMST.\n",
    "\n",
    "### Voici les problématiques :\n",
    "1. Quelles sont les tendances générales dans la manière dont les couples se rencontrent et forment des relations aux États-Unis, et comment ont-elles changé au fil du temps ?\n",
    "\n",
    "2. Dans quelle mesure la religion, la politique et d'autres facteurs influencent-ils la manière dont les couples se rencontrent et se forment, ainsi que la durabilité de leur relation ?\n",
    "\n",
    "3. Quelles sont les attitudes envers le mariage et la satisfaction de la relation chez les couples, et comment cela est-il lié à la durée de la relation et à la manière dont les couples se sont rencontrés ?\n",
    "\n",
    "4. Comment les rencontres en ligne ont-elles changé la manière dont les couples se rencontrent et forment des relations, et quelles sont les différences entre les couples qui se sont rencontrés en ligne et ceux qui se sont rencontrés dans la vie réelle ?\n",
    "\n",
    "### En résumé :\n",
    "- De manière générale, comment les couples se rencontrent-ils et nouent-ils des relations aux États-Unis ? Quels sont les changements observés dans ces tendances au fil du temps ?\n",
    "\n",
    "- Dans quelle mesure les facteurs tels que la religion, la politique et les idéologies similaires ou différentes peuvent-ils influencer la formation et la durabilité des couples, ainsi que leur capacité à maintenir une relation satisfaisante dans le temps ?\n",
    "\n",
    "- Comment les rencontres en ligne ont-elles modifié la façon dont les couples se rencontrent et entretiennent des relations ? Quelles sont les différences entre les couples qui se sont rencontrés en ligne et ceux qui ont opté pour des rencontres dans la vie réelle ?\n",
    "En outre, quels sont les endroits les plus courants pour que les couples se rencontrent ?\n",
    "---\n",
    "# Info Data :\n",
    "How Couples Meet and Stay Together (HCMST) est une étude sur la façon dont les Américains rencontrent leurs conjoints et partenaires amoureux.\n",
    "\n",
    "- L'étude est une étude représentative à l'échelle nationale des adultes américains.\n",
    "- 4 002 adultes ont répondu à l'enquête, dont 3 009 avaient un conjoint ou un partenaire amoureux principal.\n",
    "- L'étude suréchantillonne des adultes homosexuels, lesbiennes et bisexuels auto-identifiés\n",
    "- Des enquêtes de suivi ont été mises en place un et deux ans après l'enquête principale, pour étudier les taux de dissolution des couples. La version 3.0 de l'ensemble de données comprend deux enquêtes de suivi, les vagues 2 et 3.\n",
    "- Les vagues 4 et 5 sont fournies sous forme de fichiers de données distincts qui peuvent être liés au fichier principal via la variable caseid_new.\n",
    "wave 1 = 2009\n",
    "wave 2 = 2010\n",
    "wave 3 = 2011\n",
    "wave 4 = 2013\n",
    "wave 5 = 2015\n",
    "wave 6 = 2017\n",
    "chaque wave correspond à un fichier csv que l'on as.\n",
    "___"
   ]
  },
  {
   "cell_type": "markdown",
   "id": "dc4344e6-ee8b-4184-a189-880912b021bc",
   "metadata": {
    "tags": []
   },
   "source": [
    "# Transformer les fichier .dta en .csv\n",
    "Grace [à cette personne.](https://gist.github.com/clbarnes/3d4cef38806672535a37a7db3c06c0ad)\n",
    "Nous avons pus crée ce code qui convertie les fichier .dta en csv"
   ]
  },
  {
   "cell_type": "code",
   "execution_count": 10,
   "id": "dc122201-d8d5-4b6d-a732-3fd0dc5727cf",
   "metadata": {},
   "outputs": [
    {
     "name": "stdout",
     "output_type": "stream",
     "text": [
      "Reading dta\\HCMST2017.dta\n",
      "Writing HCMST2017.csv\n",
      "Moving dta\\HCMST2017.csv to csv\\HCMST2017.csv\n"
     ]
    }
   ],
   "source": [
    "#!/usr/bin/env python3.7\n",
    "\"\"\"\n",
    "How Couples Meet and Stay Together\n",
    "\n",
    "For more information, see [the website](https://data.stanford.edu/hcmst)\n",
    "\n",
    "Download STATA data (.dta) and put in the same directory as this script.\n",
    "transforme les fichier dta en csv\n",
    "\"\"\"\n",
    "from pathlib import Path\n",
    "import pandas as pd\n",
    "\n",
    "for fpath in Path().glob(\"dta/*.dta\"):\n",
    "    print(f\"Reading {fpath}\")\n",
    "    df = pd.read_stata(fpath)\n",
    "    out_fpath = fpath.with_suffix(\".csv\").name\n",
    "    print(f\"Writing {out_fpath}\")\n",
    "    df.to_csv(fpath.with_suffix(\".csv\"))\n",
    "\n",
    "for fpath in Path().glob(\"dta/*.csv\"):\n",
    "    new_fpath = Path(\"./csv/Brut\") / fpath.name\n",
    "    print(f\"Moving {fpath} to {new_fpath}\")\n",
    "    fpath.rename(new_fpath)"
   ]
  },
  {
   "cell_type": "markdown",
   "id": "bca311e8-e39c-4330-a6d5-22aed41339ac",
   "metadata": {},
   "source": [
    "# Netoyage Des donné\n",
    "\n",
    "### explication :\n",
    "code qui transfrome tout les \"date\"HCMS qui sont dans un désorde en un seul fichier csv avec des tete de page comprénsible "
   ]
  },
  {
   "cell_type": "code",
   "execution_count": null,
   "id": "8779cfbc-46ea-47ab-8ed5-d492050da5ea",
   "metadata": {},
   "outputs": [],
   "source": []
  }
 ],
 "metadata": {
  "kernelspec": {
   "display_name": "Python 3 (ipykernel)",
   "language": "python",
   "name": "python3"
  },
  "language_info": {
   "codemirror_mode": {
    "name": "ipython",
    "version": 3
   },
   "file_extension": ".py",
   "mimetype": "text/x-python",
   "name": "python",
   "nbconvert_exporter": "python",
   "pygments_lexer": "ipython3",
   "version": "3.9.13"
  }
 },
 "nbformat": 4,
 "nbformat_minor": 5
}
